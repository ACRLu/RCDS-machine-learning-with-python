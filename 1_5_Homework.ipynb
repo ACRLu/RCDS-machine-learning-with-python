{
 "cells": [
  {
   "cell_type": "markdown",
   "id": "b3ab2312",
   "metadata": {},
   "source": [
    "# Machine Learning with Python"
   ]
  },
  {
   "cell_type": "markdown",
   "id": "5b655431",
   "metadata": {},
   "source": [
    "## 1.5 Homework"
   ]
  },
  {
   "cell_type": "markdown",
   "id": "992437c3",
   "metadata": {},
   "source": [
    "### 0\n",
    "\n",
    "Find a dataset that interests you that will be suitable for *supervised learning*:\n",
    "\n",
    "At least one of the variables should be a *target* value that would be interesting to predict.\n",
    "This will be either\n",
    "* a class label (for classification) or \n",
    "* a numerical value (for regression)\n",
    "\n",
    "There should be sufficient features to make the problem interesting - at least 4 non-target columns.\n",
    "\n",
    "There should be sufficient data points to allow for meaningful cross-validation - at least 100 rows.\n",
    "\n",
    "Your dataset could be loaded directly from [OpenML](https://www.openml.org/home) or from a CSV file that you have prepared."
   ]
  },
  {
   "cell_type": "code",
   "execution_count": null,
   "id": "c22ba05f",
   "metadata": {},
   "outputs": [],
   "source": []
  },
  {
   "cell_type": "markdown",
   "id": "e88e6f2a",
   "metadata": {},
   "source": [
    "### 1\n",
    "\n",
    "Produce a visualisation of the whole dataset using a dimensionality reduction technique of your choice."
   ]
  },
  {
   "cell_type": "code",
   "execution_count": null,
   "id": "ce0c42b5",
   "metadata": {},
   "outputs": [],
   "source": []
  },
  {
   "cell_type": "markdown",
   "id": "9b1ce8fd",
   "metadata": {},
   "source": [
    "### 2\n",
    "Apply a clustering algorithm to the data and evaluate the results in an appropriate way."
   ]
  },
  {
   "cell_type": "code",
   "execution_count": null,
   "id": "b55c153e",
   "metadata": {},
   "outputs": [],
   "source": []
  }
 ],
 "metadata": {
  "kernelspec": {
   "display_name": "Python 3",
   "language": "python",
   "name": "python3"
  },
  "language_info": {
   "codemirror_mode": {
    "name": "ipython",
    "version": 3
   },
   "file_extension": ".py",
   "mimetype": "text/x-python",
   "name": "python",
   "nbconvert_exporter": "python",
   "pygments_lexer": "ipython3",
   "version": "3.8.2"
  }
 },
 "nbformat": 4,
 "nbformat_minor": 5
}
